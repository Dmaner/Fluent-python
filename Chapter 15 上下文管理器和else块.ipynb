{
 "cells": [
  {
   "cell_type": "code",
   "execution_count": 1,
   "metadata": {},
   "outputs": [],
   "source": [
    "# 15.2 上下文管理器协议包含__enter__方法和__exit__方法"
   ]
  },
  {
   "cell_type": "code",
   "execution_count": 7,
   "metadata": {},
   "outputs": [],
   "source": [
    "with open('test.txt', 'r') as f:\n",
    "    src = f.read(60)"
   ]
  },
  {
   "cell_type": "code",
   "execution_count": 8,
   "metadata": {},
   "outputs": [
    {
     "data": {
      "text/plain": [
       "60"
      ]
     },
     "execution_count": 8,
     "metadata": {},
     "output_type": "execute_result"
    }
   ],
   "source": [
    "len(src)"
   ]
  },
  {
   "cell_type": "code",
   "execution_count": 9,
   "metadata": {},
   "outputs": [
    {
     "data": {
      "text/plain": [
       "(True, 'cp936')"
      ]
     },
     "execution_count": 9,
     "metadata": {},
     "output_type": "execute_result"
    }
   ],
   "source": [
    "f.closed, f.encoding"
   ]
  },
  {
   "cell_type": "code",
   "execution_count": 10,
   "metadata": {},
   "outputs": [
    {
     "ename": "ValueError",
     "evalue": "I/O operation on closed file.",
     "output_type": "error",
     "traceback": [
      "\u001b[1;31m---------------------------------------------------------------------------\u001b[0m",
      "\u001b[1;31mValueError\u001b[0m                                Traceback (most recent call last)",
      "\u001b[1;32m<ipython-input-10-ae64bc4ad79d>\u001b[0m in \u001b[0;36m<module>\u001b[1;34m\u001b[0m\n\u001b[1;32m----> 1\u001b[1;33m \u001b[0mf\u001b[0m\u001b[1;33m.\u001b[0m\u001b[0mread\u001b[0m\u001b[1;33m(\u001b[0m\u001b[1;36m60\u001b[0m\u001b[1;33m)\u001b[0m\u001b[1;33m\u001b[0m\u001b[0m\n\u001b[0m",
      "\u001b[1;31mValueError\u001b[0m: I/O operation on closed file."
     ]
    }
   ],
   "source": [
    "f.read(60)"
   ]
  },
  {
   "cell_type": "code",
   "execution_count": 11,
   "metadata": {},
   "outputs": [],
   "source": [
    "# 实现上下文管理器类\n",
    "class LookingGlass:\n",
    "    \n",
    "    def __enter__(self):\n",
    "        import sys\n",
    "        self.original_write = sys.stdout.write\n",
    "        sys.stdout.write = self.reverse_write\n",
    "        return 'JBBERWOCKY'\n",
    "    def reverse_write(self, text):\n",
    "        self.original_write(text[::-1])\n",
    "    def __exit__(self, exc_type, exc_value, traceback): # 这三个值分别为异常类，异常实例，traceback类\n",
    "        import sys\n",
    "        sys.stdout.write = self.original_write\n",
    "        if exc_type is ZeroDivisionError:\n",
    "            print(\"Don't  divide by zero!!\")\n",
    "            return True"
   ]
  },
  {
   "cell_type": "code",
   "execution_count": null,
   "metadata": {},
   "outputs": [],
   "source": [
    "# 下面查看上下文管理器的具体工作机制"
   ]
  },
  {
   "cell_type": "code",
   "execution_count": 21,
   "metadata": {},
   "outputs": [
    {
     "name": "stdout",
     "output_type": "stream",
     "text": [
      "<__main__.LookingGlass object at 0x000001B22FEE58D0>\n",
      "eurT\n",
      "YKCOWREBBJ\n",
      ">0D85EEF22B100000x0 ta tcejbo ssalGgnikooL.__niam__<\n",
      "JBBERWOCKY\n"
     ]
    }
   ],
   "source": [
    "print(manager)\n",
    "monster = manager.__enter__()     # 进入上下文\n",
    "print(monster == 'JBBERWOCKY')\n",
    "print(monster)\n",
    "print(manager)\n",
    "manager.__exit__(None, None, None)# 退出上下文\n",
    "print(monster)"
   ]
  },
  {
   "cell_type": "code",
   "execution_count": 14,
   "metadata": {},
   "outputs": [],
   "source": [
    "# 使用@contextmanager简化上下文管理器"
   ]
  },
  {
   "cell_type": "code",
   "execution_count": 22,
   "metadata": {},
   "outputs": [],
   "source": [
    "import contextlib\n",
    "\n",
    "@contextlib.contextmanager\n",
    "def look_glass():\n",
    "    import sys\n",
    "    original_write = sys.stdout.write\n",
    "    \n",
    "    def reverse_write(text):\n",
    "        original_write(text[::-1])\n",
    "    sys.stdout.write = reverse_write\n",
    "    yield 'Enter....'\n",
    "    sys.stdout.write = original_write"
   ]
  },
  {
   "cell_type": "code",
   "execution_count": 23,
   "metadata": {},
   "outputs": [
    {
     "name": "stdout",
     "output_type": "stream",
     "text": [
      "...gniyrt si namD\n",
      "....retnE\n"
     ]
    }
   ],
   "source": [
    "with look_glass() as what:\n",
    "    print(\"Dman is trying...\")\n",
    "    print(what)"
   ]
  },
  {
   "cell_type": "code",
   "execution_count": 24,
   "metadata": {},
   "outputs": [],
   "source": [
    "# 优化实现异常处理，防止函数终止在yield"
   ]
  },
  {
   "cell_type": "code",
   "execution_count": 25,
   "metadata": {},
   "outputs": [],
   "source": [
    "import contextlib\n",
    "\n",
    "@contextlib.contextmanager\n",
    "def look_glass():\n",
    "    import sys\n",
    "    original_write = sys.stdout.write\n",
    "    \n",
    "    def reverse_write(text):\n",
    "        original_write(text[::-1])\n",
    "    sys.stdout.write = reverse_write\n",
    "    msg = ''\n",
    "    try:\n",
    "        yield 'Enter....'\n",
    "    except ZeroDivisionError:\n",
    "        msg = \"Stop divide by Zero!!\"\n",
    "    finally:\n",
    "        sys.stdout.write = original_write\n",
    "        if (msg):\n",
    "            print(msg)"
   ]
  }
 ],
 "metadata": {
  "kernelspec": {
   "display_name": "Python 3",
   "language": "python",
   "name": "python3"
  },
  "language_info": {
   "codemirror_mode": {
    "name": "ipython",
    "version": 3
   },
   "file_extension": ".py",
   "mimetype": "text/x-python",
   "name": "python",
   "nbconvert_exporter": "python",
   "pygments_lexer": "ipython3",
   "version": "3.6.6"
  }
 },
 "nbformat": 4,
 "nbformat_minor": 2
}
