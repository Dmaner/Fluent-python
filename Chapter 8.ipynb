{
 "cells": [
  {
   "cell_type": "code",
   "execution_count": 1,
   "metadata": {},
   "outputs": [],
   "source": [
    "#证明变量事便利贴而不是盒子\n",
    "alex = {'name': 'dman', 'born': 1998}\n",
    "dman = {'name': 'dman', 'born': 1998}"
   ]
  },
  {
   "cell_type": "code",
   "execution_count": 2,
   "metadata": {},
   "outputs": [
    {
     "data": {
      "text/plain": [
       "False"
      ]
     },
     "execution_count": 2,
     "metadata": {},
     "output_type": "execute_result"
    }
   ],
   "source": [
    "alex is dman"
   ]
  },
  {
   "cell_type": "code",
   "execution_count": 14,
   "metadata": {},
   "outputs": [
    {
     "data": {
      "text/plain": [
       "True"
      ]
     },
     "execution_count": 14,
     "metadata": {},
     "output_type": "execute_result"
    }
   ],
   "source": [
    "alex == dman"
   ]
  },
  {
   "cell_type": "code",
   "execution_count": 15,
   "metadata": {},
   "outputs": [],
   "source": [
    "import copy"
   ]
  },
  {
   "cell_type": "code",
   "execution_count": 16,
   "metadata": {},
   "outputs": [
    {
     "name": "stdout",
     "output_type": "stream",
     "text": [
      "L1 == L2  result:  True\n",
      "L1 is  L2  result:  False\n",
      "After L1 remove 3 result L2:  [3, [4, 5, 6], 4, 5]\n",
      "After L1 remove 3 result L3:  [3, [4, 5, 6, 65], 4, 5]\n",
      "L1 id: 1573483371080\n",
      "L2 id: 1573483370888\n"
     ]
    }
   ],
   "source": [
    "# 浅复制(副本共享内部对象的引用)\n",
    "# 深复制(副本不共享内部对象的引用)\n",
    "l1 = [3,[4,5,6,65],4,5]\n",
    "l2 = l1[:] # or l2 = l1\n",
    "l3 = copy.deepcopy(l1)\n",
    "print(\"L1 == L2  result: \", l1==l2)\n",
    "print(\"L1 is  L2  result: \", l1 is l2)\n",
    "l1[1].remove(65)\n",
    "print(\"After L1 remove 3 result L2: \", l2)\n",
    "print(\"After L1 remove 3 result L3: \", l3)\n",
    "print(\"L1 id:\",id(l1))\n",
    "print(\"L2 id:\",id(l2))"
   ]
  },
  {
   "cell_type": "code",
   "execution_count": 17,
   "metadata": {},
   "outputs": [],
   "source": [
    "# example 不要用可变参数做函数参数"
   ]
  },
  {
   "cell_type": "code",
   "execution_count": 18,
   "metadata": {},
   "outputs": [],
   "source": [
    "class HauntedBus():\n",
    "    def __init__(self, passenger=[]):\n",
    "        self.passenger = passenger\n",
    "    \n",
    "    def pick(self, name):\n",
    "        self.passenger.append(name)\n",
    "    \n",
    "    def drop(self, name):\n",
    "        self.passenger.remove(name)"
   ]
  },
  {
   "cell_type": "code",
   "execution_count": 26,
   "metadata": {},
   "outputs": [
    {
     "name": "stdout",
     "output_type": "stream",
     "text": [
      "['dman', 'alice']\n",
      "['D', 'D', 'D', 'D', 'D', 'D', 'D', 'D']\n",
      "['D', 'D', 'D', 'D', 'D', 'D', 'D', 'D']\n"
     ]
    }
   ],
   "source": [
    "bus1 = HauntedBus(['dman', 'alice'])\n",
    "print(bus1.passenger)\n",
    "bus2 = HauntedBus()\n",
    "bus2.pick('D')\n",
    "print(bus2.passenger)\n",
    "bus3 = HauntedBus()\n",
    "print(bus3.passenger)"
   ]
  },
  {
   "cell_type": "code",
   "execution_count": 27,
   "metadata": {},
   "outputs": [],
   "source": [
    "# 以上问题是因为当参数为空列表时，self.passenger 为passenger的别名，故bus2和bus3共享参数self.passenger"
   ]
  },
  {
   "cell_type": "code",
   "execution_count": 28,
   "metadata": {},
   "outputs": [
    {
     "data": {
      "text/plain": [
       "(['D', 'D', 'D', 'D', 'D', 'D', 'D', 'D'],)"
      ]
     },
     "execution_count": 28,
     "metadata": {},
     "output_type": "execute_result"
    }
   ],
   "source": [
    "HauntedBus().__init__.__defaults__"
   ]
  },
  {
   "cell_type": "code",
   "execution_count": 29,
   "metadata": {},
   "outputs": [],
   "source": [
    "import weakref"
   ]
  },
  {
   "cell_type": "code",
   "execution_count": 30,
   "metadata": {},
   "outputs": [],
   "source": [
    "# del 命令不删除对象而只是删除对象的引用"
   ]
  },
  {
   "cell_type": "code",
   "execution_count": 33,
   "metadata": {},
   "outputs": [
    {
     "name": "stdout",
     "output_type": "stream",
     "text": [
      "True\n",
      "True\n",
      "An element deleted\n",
      "False\n"
     ]
    }
   ],
   "source": [
    "s1 = {1,2,3,4}\n",
    "s2 = s1\n",
    "def bye():\n",
    "    print(\"An element deleted\")\n",
    "ender = weakref.finalize(s1, bye) # 如果列表被删除则调用函数bye\n",
    "print(ender.alive)\n",
    "del s1\n",
    "print(ender.alive)\n",
    "s2 = \"dman\"       #这时对列表得引用数量为零\n",
    "print(ender.alive)"
   ]
  },
  {
   "cell_type": "code",
   "execution_count": 34,
   "metadata": {},
   "outputs": [],
   "source": [
    "# 弱引用"
   ]
  },
  {
   "cell_type": "code",
   "execution_count": 39,
   "metadata": {},
   "outputs": [
    {
     "name": "stdout",
     "output_type": "stream",
     "text": [
      "{0, 1}\n",
      "True\n"
     ]
    }
   ],
   "source": [
    "a_set = {0,1}\n",
    "wref = weakref.ref(a_set)# 创建弱引用对象\n",
    "print(wref())\n",
    "a_set ={2,3,3}\n",
    "print(wref() is None)"
   ]
  },
  {
   "cell_type": "code",
   "execution_count": 38,
   "metadata": {},
   "outputs": [
    {
     "data": {
      "text/plain": [
       "True"
      ]
     },
     "execution_count": 38,
     "metadata": {},
     "output_type": "execute_result"
    }
   ],
   "source": [
    "wref() is None"
   ]
  }
 ],
 "metadata": {
  "kernelspec": {
   "display_name": "Python 3",
   "language": "python",
   "name": "python3"
  },
  "language_info": {
   "codemirror_mode": {
    "name": "ipython",
    "version": 3
   },
   "file_extension": ".py",
   "mimetype": "text/x-python",
   "name": "python",
   "nbconvert_exporter": "python",
   "pygments_lexer": "ipython3",
   "version": "3.6.6"
  }
 },
 "nbformat": 4,
 "nbformat_minor": 2
}
