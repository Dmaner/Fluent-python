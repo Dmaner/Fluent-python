{
 "cells": [
  {
   "cell_type": "code",
   "execution_count": 1,
   "metadata": {},
   "outputs": [],
   "source": [
    "# 普通下载方式"
   ]
  },
  {
   "cell_type": "code",
   "execution_count": 2,
   "metadata": {},
   "outputs": [],
   "source": [
    "# flag.py"
   ]
  },
  {
   "cell_type": "code",
   "execution_count": 3,
   "metadata": {},
   "outputs": [],
   "source": [
    "import time\n",
    "import os\n",
    "import sys\n",
    "\n",
    "import requests\n",
    "\n",
    "POP_CC = ('CN IN US ID BR PK NG BD RU JP MX PH VN ET EG DE IR TR CD FR').split()\n",
    "\n",
    "BASE_URL = 'http://flupy.org/data/flags'\n",
    "\n",
    "DEST_DIR = 'Downloads/'\n",
    "\n",
    "def save_flag(img, filename):\n",
    "    path = os.path.join(DEST_DIR, filename)\n",
    "    with open (path ,'wb') as f:\n",
    "        f.write(img)\n",
    "\n",
    "def get_flag(cc):\n",
    "    url = '{}/{cc}/{cc}.gif'.format(BASE_URL, cc= cc.lower())\n",
    "    resp = requests.get(url)\n",
    "    \n",
    "    return resp.content\n",
    "\n",
    "def show(text):\n",
    "    print(text, end =\" \")\n",
    "    sys.stdout.flush()\n",
    "    \n",
    "def download_many(cc_list):\n",
    "    for cc in sorted(cc_list):\n",
    "        flag = get_flag(cc)\n",
    "        show(cc)\n",
    "        save_flag(flag, cc.lower()+'.gif')\n",
    "    \n",
    "    return len(cc_list)\n",
    "\n",
    "def main(download):\n",
    "    t0 = time.time()\n",
    "    counts = download(POP_CC)\n",
    "    interval = time.time() - t0\n",
    "    msg = '{} flags hava been loaded in {:.2f}s'\n",
    "    print(msg.format(counts, interval))"
   ]
  },
  {
   "cell_type": "code",
   "execution_count": 4,
   "metadata": {},
   "outputs": [
    {
     "name": "stdout",
     "output_type": "stream",
     "text": [
      "BD BR CD CN DE EG ET FR ID IN IR JP MX NG PH PK RU TR US VN 20 flags hava been loaded in 17.91s\n"
     ]
    }
   ],
   "source": [
    "main(download_many)"
   ]
  },
  {
   "cell_type": "code",
   "execution_count": 5,
   "metadata": {},
   "outputs": [],
   "source": [
    "# flags_threadpool"
   ]
  },
  {
   "cell_type": "code",
   "execution_count": 6,
   "metadata": {},
   "outputs": [],
   "source": [
    "from concurrent import futures\n",
    "\n",
    "MAX_WORKS = 20 # 最多使用的线程\n",
    "\n",
    "def download_one(cc):\n",
    "    image = get_flag(cc)\n",
    "    show(text=cc)\n",
    "    save_flag(image, cc.lower()+'.gif')\n",
    "\n",
    "def download_many(cc_list):\n",
    "    workers = min(len(cc_list), MAX_WORKS)\n",
    "    with futures.ThreadPoolExecutor(workers) as executor:\n",
    "        res = executor.map(download_one, sorted(cc_list))\n",
    "    \n",
    "    return len(list(res))"
   ]
  },
  {
   "cell_type": "code",
   "execution_count": 7,
   "metadata": {},
   "outputs": [
    {
     "name": "stdout",
     "output_type": "stream",
     "text": [
      "NG ID TR BD JPIN DE VN CD PH  US RU BR FR CN MX ET EG IR PK 20 flags hava been loaded in 3.13s\n"
     ]
    }
   ],
   "source": [
    "main(download_many)"
   ]
  },
  {
   "cell_type": "code",
   "execution_count": 11,
   "metadata": {},
   "outputs": [],
   "source": [
    "# flags_threadpool_ac.py\n",
    "def download_many(cc_list):\n",
    "    cc_list = cc_list[:5]\n",
    "    with futures.ThreadPoolExecutor(3) as executor:\n",
    "        to_do = []\n",
    "        for cc in sorted(cc_list):\n",
    "            future = executor.submit(download_one, cc)\n",
    "            to_do.append(future)\n",
    "            msg = 'Scheduled for {}: {}'\n",
    "            print(msg.format(cc, future))\n",
    "            \n",
    "        results = []\n",
    "        for future in futures.as_completed(to_do):\n",
    "            res = future.result()\n",
    "            msg = '{} result: {!r}'\n",
    "            print(msg.format(future, res))\n",
    "            results.append(res)\n",
    "        \n",
    "    return len(results)"
   ]
  },
  {
   "cell_type": "code",
   "execution_count": 12,
   "metadata": {},
   "outputs": [
    {
     "name": "stdout",
     "output_type": "stream",
     "text": [
      "Scheduled for BR: <Future at 0x21eb481fe48 state=running>\n",
      "Scheduled for CN: <Future at 0x21eb481fd30 state=running>\n",
      "Scheduled for ID: <Future at 0x21eb481f7b8 state=running>\n",
      "Scheduled for IN: <Future at 0x21eb482f780 state=pending>\n",
      "Scheduled for US: <Future at 0x21eb482f630 state=pending>\n",
      "ID <Future at 0x21eb481f7b8 state=finished returned NoneType> result: None\n",
      "CN <Future at 0x21eb481fd30 state=finished returned NoneType> result: None\n",
      "BR <Future at 0x21eb481fe48 state=finished returned NoneType> result: None\n",
      "IN <Future at 0x21eb482f780 state=finished returned NoneType> result: None\n",
      "US <Future at 0x21eb482f630 state=finished returned NoneType> result: None\n",
      "5 flags hava been loaded in 5.46s\n"
     ]
    }
   ],
   "source": [
    "main(download_many)"
   ]
  },
  {
   "cell_type": "code",
   "execution_count": 13,
   "metadata": {},
   "outputs": [],
   "source": [
    "# 将ProcessPoolExecutor变为ThreadPoolExecutor, 线程数默认为电脑的CPU数"
   ]
  },
  {
   "cell_type": "code",
   "execution_count": 24,
   "metadata": {},
   "outputs": [],
   "source": [
    "def download_many(cc_list):\n",
    "    with futures.ProcessPoolExecutor() as executor:\n",
    "        res = executor.map(download_one, sorted(cc_list))\n",
    "        \n",
    "    return len(list(res))"
   ]
  },
  {
   "cell_type": "code",
   "execution_count": 25,
   "metadata": {},
   "outputs": [
    {
     "name": "stdout",
     "output_type": "stream",
     "text": [
      "None flags hava been loaded in 0.23s\n"
     ]
    }
   ],
   "source": [
    "main(download_many)"
   ]
  },
  {
   "cell_type": "code",
   "execution_count": 23,
   "metadata": {},
   "outputs": [],
   "source": [
    "from time import sleep ,strftime\n",
    "from concurrent import futures\n",
    "\n",
    "def display(*args):\n",
    "    print(strftime(\"[%H:%M:%S]\"), end=\" \")\n",
    "    print(*args)\n",
    "    \n",
    "def loiter(n):\n",
    "    msg = \"{}loiter({}): doing nothing for {}s\"\n",
    "    display(msg.format('\\t'*n, n, n))\n",
    "    sleep(n)\n",
    "    msg = \"{}loiter({}): done\"\n",
    "    display(msg.format('\\t'*n, n))\n",
    "    return n*10\n",
    "\n",
    "def main():\n",
    "    display(\"Script starting\")\n",
    "    executer = futures.ThreadPoolExecutor(max_workers=3)\n",
    "    results = executer.map(loiter, range(5))\n",
    "#     display('results: ', results) # 说明result为生成器\n",
    "    display('Waiting for individual results:')\n",
    "    for i, result in enumerate(results):\n",
    "        display('result {}: {}'.format(i, result))"
   ]
  },
  {
   "cell_type": "code",
   "execution_count": 24,
   "metadata": {},
   "outputs": [
    {
     "name": "stdout",
     "output_type": "stream",
     "text": [
      "[20:54:11] Script starting\n",
      "[20:54:11] loiter(0): doing nothing for 0s\n",
      "[20:54:11] loiter(0): done\n",
      "[20:54:11] \tloiter(1): doing nothing for 1s\n",
      "[20:54:11] \t\tloiter(2): doing nothing for 2s\n",
      "[20:54:11] [20:54:11] \t\t\tloiter(3): doing nothing for 3s\n",
      "Waiting for individual results:\n",
      "[20:54:11] result 0: 0\n",
      "[20:54:12] \tloiter(1): done\n",
      "[20:54:12] [20:54:12] result 1: 10\n",
      "\t\t\t\tloiter(4): doing nothing for 4s\n",
      "[20:54:13] \t\tloiter(2): done\n",
      "[20:54:13] result 2: 20\n",
      "[20:54:14] \t\t\tloiter(3): done\n",
      "[20:54:14] result 3: 30\n",
      "[20:54:16] \t\t\t\tloiter(4): done\n",
      "[20:54:16] result 4: 40\n"
     ]
    }
   ],
   "source": [
    "main()"
   ]
  },
  {
   "cell_type": "code",
   "execution_count": 33,
   "metadata": {},
   "outputs": [
    {
     "name": "stderr",
     "output_type": "stream",
     "text": [
      "100%|████████████████████████████████████████████████████████████████████████████████| 100/100 [00:10<00:00,  9.83it/s]\n"
     ]
    }
   ],
   "source": [
    "# tqdm test\n",
    "from time import sleep\n",
    "from tqdm import tqdm\n",
    "\n",
    "for i in tqdm(range(100)):\n",
    "    sleep(0.1)"
   ]
  },
  {
   "cell_type": "code",
   "execution_count": 36,
   "metadata": {},
   "outputs": [
    {
     "name": "stderr",
     "output_type": "stream",
     "text": [
      "100%|█████████████████████████████████████████████████████████████████████| 100000/100000 [00:00<00:00, 2785284.35it/s]\n"
     ]
    }
   ],
   "source": [
    "for i in tqdm):\n",
    "    pass"
   ]
  },
  {
   "cell_type": "code",
   "execution_count": null,
   "metadata": {},
   "outputs": [],
   "source": []
  }
 ],
 "metadata": {
  "kernelspec": {
   "display_name": "Python 3",
   "language": "python",
   "name": "python3"
  },
  "language_info": {
   "codemirror_mode": {
    "name": "ipython",
    "version": 3
   },
   "file_extension": ".py",
   "mimetype": "text/x-python",
   "name": "python",
   "nbconvert_exporter": "python",
   "pygments_lexer": "ipython3",
   "version": "3.6.6"
  }
 },
 "nbformat": 4,
 "nbformat_minor": 2
}
